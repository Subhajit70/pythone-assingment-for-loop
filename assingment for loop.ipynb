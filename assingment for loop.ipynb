{
 "cells": [
  {
   "cell_type": "code",
   "execution_count": 1,
   "id": "0c52e057-1d58-4557-bc4c-7b00b43726f6",
   "metadata": {},
   "outputs": [],
   "source": [
    "# basic level"
   ]
  },
  {
   "cell_type": "code",
   "execution_count": 2,
   "id": "23b63a33-f982-44af-aac3-729a9d11b689",
   "metadata": {},
   "outputs": [
    {
     "name": "stdout",
     "output_type": "stream",
     "text": [
      "1\n",
      "2\n",
      "3\n",
      "4\n",
      "5\n",
      "6\n",
      "7\n",
      "8\n",
      "9\n",
      "10\n"
     ]
    }
   ],
   "source": [
    "#1 write a programmeto print the nymbers from 1 to 10 using the loop\n",
    "\n",
    "for i in range (1,11):\n",
    "    print(i)"
   ]
  },
  {
   "cell_type": "code",
   "execution_count": 4,
   "id": "1e9092da-c3e6-4220-9c2e-edc4b20d0231",
   "metadata": {},
   "outputs": [
    {
     "name": "stdout",
     "output_type": "stream",
     "text": [
      "42\n",
      "47\n",
      "53\n",
      "60\n",
      "8948\n",
      "8957\n",
      "8967\n",
      "9090\n",
      "9189\n"
     ]
    }
   ],
   "source": [
    "# 2 creat a programme that calcultes the sum  of all numbers in the list using a for loop.\n",
    "\n",
    "x=[42,5,6,7,8888,9,10,123,99]\n",
    "sum=0\n",
    "for n in x:\n",
    "    sum+= n\n",
    "    print(sum)\n"
   ]
  },
  {
   "cell_type": "code",
   "execution_count": 7,
   "id": "7acf162e-a02f-4481-8d7e-ed6b50083e03",
   "metadata": {},
   "outputs": [
    {
     "name": "stdout",
     "output_type": "stream",
     "text": [
      "the orginal string: subho\n",
      "the reversed string: ohbus\n"
     ]
    }
   ],
   "source": [
    "# 3 write a programme of a char in the string and use reverse orders using loop.\n",
    "\n",
    "def reverse_string(str):\n",
    "    str1=\"\" # declaring empty to store the reverse string\n",
    "    for i in str:\n",
    "        str1=i+str1\n",
    "    return str1 #it will return the reverse string\n",
    "\n",
    "str=\"subho\"\n",
    "print(\"the orginal string:\", str)\n",
    "print(\"the reversed string:\", reverse_string(str)) "
   ]
  },
  {
   "cell_type": "code",
   "execution_count": 8,
   "id": "b2dbbe54-e374-44e5-a438-a1270a5c83d0",
   "metadata": {},
   "outputs": [
    {
     "name": "stdin",
     "output_type": "stream",
     "text": [
      "enter the string 20\n"
     ]
    },
    {
     "name": "stdout",
     "output_type": "stream",
     "text": [
      "factorial number: 20 is 1\n"
     ]
    }
   ],
   "source": [
    "#4 devlope a function that find the factorial  of given number using the for loop.\n",
    "\n",
    "num=int(input(\"enter the string\"))\n",
    "\n",
    "fac= 1 #factorial no\n",
    "for i in range(1,num+1):\n",
    "    fac=fac*1\n",
    "print(\"factorial number:\", num, \"is\", fac)"
   ]
  },
  {
   "cell_type": "code",
   "execution_count": 9,
   "id": "d6ee2677-8f69-4112-a478-1e6e36fc071b",
   "metadata": {},
   "outputs": [
    {
     "name": "stdin",
     "output_type": "stream",
     "text": [
      "enter the number you want to gen a multification table for, then hit 'enter' key: 7\n"
     ]
    },
    {
     "name": "stdout",
     "output_type": "stream",
     "text": [
      "7  *  1  =  7\n",
      "7  *  2  =  14\n",
      "7  *  3  =  21\n",
      "7  *  4  =  28\n",
      "7  *  5  =  35\n",
      "7  *  6  =  42\n"
     ]
    }
   ],
   "source": [
    "#5 creat the program that counts the multification table of  of a given number using loop.\n",
    "num= int(input(\"enter the number you want to gen a multification table for, then hit 'enter' key:\"))\n",
    "our_range = range(1,7)\n",
    "for x in our_range:\n",
    "    result= num*x\n",
    "    print(num,\" * \",x, \" = \",result)\n",
    "  "
   ]
  },
  {
   "cell_type": "code",
   "execution_count": 11,
   "id": "0886b337-f3b6-4d2c-add8-a1579f6295dd",
   "metadata": {},
   "outputs": [
    {
     "name": "stdin",
     "output_type": "stream",
     "text": [
      "enter the  ower string 1\n",
      "enter the higest string 5\n"
     ]
    },
    {
     "name": "stdout",
     "output_type": "stream",
     "text": [
      "1\n",
      "4\n",
      "9\n",
      "16\n",
      "25\n"
     ]
    }
   ],
   "source": [
    "# 6 devlop a programe that prints the squear in number from 1 to 5 using loop.\n",
    "n=int(input(\"enter the  ower string\"))\n",
    "m=int(input(\"enter the higest string\"))\n",
    "\n",
    "for i in range (n, m+1):\n",
    "    square = i ** 2\n",
    "    print(square)"
   ]
  },
  {
   "cell_type": "code",
   "execution_count": 12,
   "id": "4a527052-8f4d-484a-9207-5f4f864f4a20",
   "metadata": {},
   "outputs": [
    {
     "name": "stdin",
     "output_type": "stream",
     "text": [
      "enter the string subho\n"
     ]
    },
    {
     "name": "stdout",
     "output_type": "stream",
     "text": [
      "5\n"
     ]
    }
   ],
   "source": [
    "#7 creat a program to find the len of a string without using len()\" function\n",
    "str= input(\"enter the string\")\n",
    "count= 0 \n",
    "for i in str:\n",
    "    count+=1\n",
    "print(count)"
   ]
  },
  {
   "cell_type": "code",
   "execution_count": 19,
   "id": "50a85c05-241f-4ca4-b429-97776cff978c",
   "metadata": {},
   "outputs": [
    {
     "name": "stdout",
     "output_type": "stream",
     "text": [
      "the average is =  54.0\n"
     ]
    }
   ],
   "source": [
    "#8 write a programe  that calculates the ave  of a list  of a list of ising for loop.\n",
    "\n",
    "def avge(lst):\n",
    "    sum_of_list = 0\n",
    "    for i in range(len(lst)):\n",
    "        sum_of_list += lst[i]\n",
    "    avge= sum_of_list/len(lst)\n",
    "    return avge\n",
    "#driver code\n",
    "lst =[12,34,56,78,90]\n",
    "avg= avge(lst)\n",
    "print(\"the average is = \", round(avg,2))\n"
   ]
  },
  {
   "cell_type": "code",
   "execution_count": 20,
   "id": "65f1ca07-4676-4e4f-b5b5-5fe9c1c1c456",
   "metadata": {},
   "outputs": [
    {
     "name": "stdin",
     "output_type": "stream",
     "text": [
      "enter the numbers : 8\n"
     ]
    },
    {
     "name": "stdout",
     "output_type": "stream",
     "text": [
      "0 1 1 2 3 5 8 13 "
     ]
    }
   ],
   "source": [
    "#10 devlope a programme that prints the n using loop function.\n",
    "n = int(input(\"enter the numbers :\"))\n",
    "a=0\n",
    "b=1\n",
    "if n<=0:\n",
    "    print(\"the output of ur input is\",a)\n",
    "else:\n",
    "    print(a,b, end=\" \")\n",
    "    for x in range(2,n):\n",
    "        c=a+b\n",
    "        print(c,end=\" \")\n",
    "        a=b\n",
    "        b=c"
   ]
  },
  {
   "cell_type": "code",
   "execution_count": 2,
   "id": "d2267ac8-73f5-4414-ba57-4a52b611ce5f",
   "metadata": {},
   "outputs": [
    {
     "name": "stdout",
     "output_type": "stream",
     "text": [
      "[5, 7, 4, 8, 9]\n"
     ]
    }
   ],
   "source": [
    "#11 write a programm to check if a given list contains any duplicates using for loop.\n",
    "list=[1,2,3,4,5,6,7,8,9,5,7,4,8,9]\n",
    "uniquelist=[]\n",
    "duplicatelist=[]\n",
    "for i in list:\n",
    "    if i not in uniquelist:\n",
    "        uniquelist.append(i)\n",
    "    elif i not in duplicatelist:\n",
    "        duplicatelist.append(i)\n",
    "print(duplicatelist)\n",
    "\n",
    "        \n"
   ]
  },
  {
   "cell_type": "code",
   "execution_count": 3,
   "id": "4c5fc6dd-db17-491c-8160-71df6cff5c0a",
   "metadata": {},
   "outputs": [
    {
     "name": "stdout",
     "output_type": "stream",
     "text": [
      "[2, 3, 5, 7]\n"
     ]
    }
   ],
   "source": [
    "#12 creata programm that contains the prime numbers in a given range using for loop.\n",
    "\n",
    "low,high= 2,10\n",
    "primes=[]\n",
    "for i in range(low, high +1):\n",
    "    flag=0\n",
    "    if i<2:\n",
    "        continue\n",
    "    if i ==2:\n",
    "        primes.append(2)\n",
    "        continue\n",
    "    for x in range(2,i):\n",
    "        if i % x ==0:\n",
    "            flag= 1\n",
    "            break\n",
    "    if flag==0:\n",
    "        primes.append(i)\n",
    "print(primes)\n",
    "    "
   ]
  },
  {
   "cell_type": "code",
   "execution_count": 7,
   "id": "cbd70f1c-1ba7-4153-8ffd-843c6e002515",
   "metadata": {},
   "outputs": [
    {
     "name": "stdin",
     "output_type": "stream",
     "text": [
      "enter the string subhajit\n"
     ]
    },
    {
     "name": "stdout",
     "output_type": "stream",
     "text": [
      "total vowles are:3\n"
     ]
    }
   ],
   "source": [
    "#13 devlope a program that count the numbers vowel in a string using for loop.\n",
    "\n",
    "string = input(\"enter the string\")\n",
    "count=0\n",
    "#keep string in lower case\n",
    "string=string.lower()\n",
    "for i in string:\n",
    "    if i == 'a' or i=='e'or i=='i' or i=='0' or i=='u':\n",
    "        #if true \n",
    "        count+=1\n",
    "if count==0:\n",
    "    print(\"no vowles found\")\n",
    "else:\n",
    "    print(\"total vowles are:\" + str(count))\n",
    "    "
   ]
  },
  {
   "cell_type": "code",
   "execution_count": 8,
   "id": "a1831376-d71b-4c9e-aa58-c99f186b09c8",
   "metadata": {},
   "outputs": [
    {
     "name": "stdout",
     "output_type": "stream",
     "text": [
      "336\n"
     ]
    }
   ],
   "source": [
    "#14  write program that find the max elements in 2d list using nested  for loop.\n",
    "\n",
    "def prod(list):\n",
    "    maxi=0\n",
    "    \n",
    "    for x in list:\n",
    "        p= 1\n",
    "        \n",
    "        for i in x:\n",
    "            p *=i\n",
    "            maxi =max(p, maxi)\n",
    "    return maxi\n",
    "l=[[1,2,3],[4,5,6],[6,7,8]]\n",
    "print(prod(l))"
   ]
  },
  {
   "cell_type": "code",
   "execution_count": 12,
   "id": "5936c854-eba2-4378-ad5a-b7a76649b665",
   "metadata": {},
   "outputs": [
    {
     "name": "stdout",
     "output_type": "stream",
     "text": [
      "original list:\n",
      "[1, 2, 3, 5, 7, 8, 9]\n",
      "list after removing elements :\n",
      "[1, 2, 3, 5, 8, 9]\n"
     ]
    }
   ],
   "source": [
    "#15 creat a programm that removes  all occurrance of a specific  element from a list using a for loop.\n",
    "\n",
    "list =[1,2,3,5,7,8,9,]\n",
    "\n",
    "n=7 #n = no to be removed\n",
    "\n",
    "print(\"original list:\")\n",
    "print(list)\n",
    "\n",
    "for x in list:\n",
    "    if x ==n:\n",
    "        list.remove(x)\n",
    "print(\"list after removing elements :\")\n",
    "print(list)"
   ]
  },
  {
   "cell_type": "code",
   "execution_count": 13,
   "id": "03e67890-fb8f-4c48-afca-020f0b049dba",
   "metadata": {},
   "outputs": [
    {
     "name": "stdout",
     "output_type": "stream",
     "text": [
      "12 x 1 = 12\n",
      "12 x 2 = 12\n",
      "12 x 3 = 12\n",
      "12 x 4 = 12\n",
      "12 x 5 = 12\n"
     ]
    }
   ],
   "source": [
    "#16 creat a programm that generaates a multification table for numbers from 1 to 5 using nested loop \n",
    "num = 12\n",
    "\n",
    "for i in range (1,6):\n",
    "    print(num, 'x', i, '=', num*1)\n",
    "\n"
   ]
  },
  {
   "cell_type": "code",
   "execution_count": 1,
   "id": "108abcd8-7ca7-4bad-928e-bb074d733344",
   "metadata": {},
   "outputs": [
    {
     "name": "stdout",
     "output_type": "stream",
     "text": [
      "[32.111111111111114, 19.444444444444443, 33.333333333333336, 37.22222222222222]\n"
     ]
    }
   ],
   "source": [
    "#17 write a programm that converts a list of fahrenheit temp of celsius usnig  a for loop.\n",
    "fah =[89.8,67.0,92,99]\n",
    "\n",
    "cen=[]\n",
    "for f in fah:\n",
    "    c=(f-32)*5/9\n",
    "    cen.append(c)\n",
    "print(cen)\n",
    "\n",
    "\n"
   ]
  },
  {
   "cell_type": "code",
   "execution_count": 3,
   "id": "36923612-e7c5-48e7-9d72-450f9c8c971e",
   "metadata": {},
   "outputs": [
    {
     "name": "stdout",
     "output_type": "stream",
     "text": [
      "the common elements in the two list are:\n",
      "[3, 4, 5]\n"
     ]
    }
   ],
   "source": [
    "#18 creat a programm to common elements from two list using for loop.\n",
    "import operator as op\n",
    "\n",
    "def common_elements(a,b):\n",
    "    result=[i for i in a if op.countOf(b,i)>0]\n",
    "    return result\n",
    "\n",
    "a=[1,2,3,4,5]\n",
    "b=[3,4,5,6,7]\n",
    "\n",
    "print(\"the common elements in the two list are:\")\n",
    "print(common_elements(a,b))\n",
    "            "
   ]
  },
  {
   "cell_type": "code",
   "execution_count": 4,
   "id": "203b8873-dd87-48d6-ae2e-e1fcb98c1b16",
   "metadata": {},
   "outputs": [
    {
     "name": "stdin",
     "output_type": "stream",
     "text": [
      "enter the row number=\n",
      " 7\n"
     ]
    },
    {
     "name": "stdout",
     "output_type": "stream",
     "text": [
      "*  \n",
      "* *  \n",
      "* * *  \n",
      "* * * *  \n",
      "* * * * *  \n",
      "* * * * * *  \n",
      "* * * * * * *  \n"
     ]
    }
   ],
   "source": [
    "#19 devlope a programme that prints of right angled tringle using a for loop use *to draw the pattern\n",
    "\n",
    "x= int(input(\"enter the row number=\\n\"))\n",
    "for i in range(x):\n",
    "    for j in range(i+1):\n",
    "        print(\"*\",end=' ')\n",
    "    print(\" \")"
   ]
  },
  {
   "cell_type": "code",
   "execution_count": 5,
   "id": "5324fd46-02a3-448c-b017-a7b314257c57",
   "metadata": {},
   "outputs": [
    {
     "name": "stdout",
     "output_type": "stream",
     "text": [
      "GCD of 50 and 100 is: 50\n"
     ]
    }
   ],
   "source": [
    "#20write a programme to find the gratest common divisor of two numbers using a for loop.\n",
    "\n",
    "x= 50\n",
    "y=100\n",
    "if x>y:\n",
    "    x,y=y,x\n",
    "for i in range(1,x+1):\n",
    "    if x%i==0 and y%i==0:\n",
    "        gcd=i\n",
    "print(\"GCD of\",x,\"and\",y, \"is:\",gcd)"
   ]
  },
  {
   "cell_type": "code",
   "execution_count": 7,
   "id": "2d48cd1a-aec4-4b3a-8722-65669d71916b",
   "metadata": {},
   "outputs": [
    {
     "name": "stdout",
     "output_type": "stream",
     "text": [
      "the orginallist is :[12, 34, 56, 78, 90]\n",
      "list inyeger summation:[3, 7, 11, 15, 9]\n"
     ]
    }
   ],
   "source": [
    "#21 creat a program that calculates the sum of the digits of the numbers in a list comprehension.\n",
    "\n",
    "st_list=[ 12,34,56,78,90]\n",
    "\n",
    "print(\"the orginallist is :\" +str(st_list))\n",
    "#sum of numbers of digits \n",
    "#using sum()+ list comprehension\n",
    "\n",
    "res= list(map(lambda ele: sum(int(sub) for sub in str(ele)),st_list))\n",
    "\n",
    "print(\"list inyeger summation:\" + str(res))"
   ]
  },
  {
   "cell_type": "code",
   "execution_count": 9,
   "id": "3c105e96-05b9-4c80-a5ad-c1dbc08fd71f",
   "metadata": {},
   "outputs": [
    {
     "name": "stdout",
     "output_type": "stream",
     "text": [
      "2\n",
      "389\n"
     ]
    }
   ],
   "source": [
    "#22 write a programme to find the prime factors of a givien number using for loop and list compherension.\n",
    "\n",
    "import math\n",
    "\n",
    "def primefactors(n):\n",
    "    while n%2==0:\n",
    "        print(2)\n",
    "        n=n//2\n",
    "    for i in range(3,int(math.sqrt(n))+1,2):\n",
    "        while n%i==0:\n",
    "            print(i)\n",
    "            n=n//i\n",
    "    if n>2:\n",
    "        print(n)\n",
    "n= 778\n",
    "primefactors(n)"
   ]
  },
  {
   "cell_type": "code",
   "execution_count": 13,
   "id": "54bee45d-d765-4060-a0a7-bf178bb4bde6",
   "metadata": {},
   "outputs": [
    {
     "name": "stdout",
     "output_type": "stream",
     "text": [
      "the unique values from 1st list is:\n",
      "10\n",
      "20\n",
      "30\n",
      "40\n",
      "50\n",
      "\n",
      "the unique values from 2nd listis:\n",
      "1\n",
      "2\n",
      "3\n",
      "4\n",
      "5\n",
      "6\n",
      "7\n",
      "8\n"
     ]
    }
   ],
   "source": [
    "#23 devlope a programme that extracts unique elements from a list and stores them in a new a list using list comprehernsion.\n",
    "\n",
    "def unique (l1):\n",
    "    unique_list=[]\n",
    "    for x in l1:\n",
    "        if x not in unique_list:\n",
    "            unique_list.append(x)\n",
    "    for x in unique_list:\n",
    "        print (x), \n",
    "l1=[10,20,30,40,50,50,50,]\n",
    "print(\"the unique values from 1st list is:\")\n",
    "unique(l1)\n",
    "l2=[1,2,3,1,3,4,5,6,7,7,8]\n",
    "print(\"\\nthe unique values from 2nd listis:\")\n",
    "unique(l2)"
   ]
  },
  {
   "cell_type": "code",
   "execution_count": 1,
   "id": "42ee5f95-e8b6-4891-ae23-a8a7ff3566ff",
   "metadata": {},
   "outputs": [
    {
     "name": "stdin",
     "output_type": "stream",
     "text": [
      "enter any number: 122234\n"
     ]
    },
    {
     "name": "stdout",
     "output_type": "stream",
     "text": [
      "not\n"
     ]
    }
   ],
   "source": [
    "#24creat a program that generates a list full of all plaindromic numbers upto  to a spacific limit using list compheresion.\n",
    "\n",
    "num= int(input(\"enter any number:\"))\n",
    "digits= [int(i) for i in str(num)]\n",
    "if digits== digits[::-1]:\n",
    "    print(\"palindrome\")\n",
    "else:\n",
    "    print(\"not\")\n",
    "         "
   ]
  },
  {
   "cell_type": "code",
   "execution_count": 3,
   "id": "41e0a516-23e6-4ec4-b636-fd66261639a9",
   "metadata": {},
   "outputs": [
    {
     "name": "stdout",
     "output_type": "stream",
     "text": [
      "[1, 2, 3, 4, 5, 1, 2, 3, 7, 8]\n"
     ]
    }
   ],
   "source": [
    "#25 write a programe to flatternd a nested list using list comprehension .\n",
    "\n",
    "my_list=[[1],[2],[3],[4],[5],[1,2,3],[7,8]]\n",
    "flat_list= [num for sublist in my_list for num in sublist]\n",
    "\n",
    "print(flat_list)"
   ]
  },
  {
   "cell_type": "code",
   "execution_count": 4,
   "id": "59f4e90c-cd9b-431b-9e68-1de7ff78627e",
   "metadata": {},
   "outputs": [
    {
     "name": "stdout",
     "output_type": "stream",
     "text": [
      "even number in the list: 6\n",
      "odd numbers in the list: 4\n"
     ]
    }
   ],
   "source": [
    "#26 devlope a programe that computesthe sum of odd and even in a saperately using in a list comprehension.\n",
    "\n",
    "list1= [10,12,13,14,15,16,17,18,19,20]\n",
    "only_odd=[num for num in list1 if num %  2 == 1]\n",
    "odd_count = len(only_odd)\n",
    "\n",
    "print(\"even number in the list:\", len(list1)- odd_count)\n",
    "print(\"odd numbers in the list:\", odd_count)"
   ]
  },
  {
   "cell_type": "code",
   "execution_count": 1,
   "id": "94f84321-6afb-47a2-94c6-11138cfd77a3",
   "metadata": {},
   "outputs": [
    {
     "data": {
      "text/plain": [
       "[1, 9, 25, 49, 81]"
      ]
     },
     "execution_count": 1,
     "metadata": {},
     "output_type": "execute_result"
    }
   ],
   "source": [
    "# 27 creat a programmethat generates a list full squre of odd numbers between 1 to 10 usinf list comprehens.\n",
    "\n",
    "odd_squre_list= [x**2 for x in range(1,11,2)]\n",
    "odd_squre_list"
   ]
  },
  {
   "cell_type": "code",
   "execution_count": 2,
   "id": "440db084-a75e-42f1-849e-ffbaae10d80c",
   "metadata": {},
   "outputs": [
    {
     "name": "stdout",
     "output_type": "stream",
     "text": [
      "{1: 'python', 2: 'java', 3: 'c'}\n"
     ]
    }
   ],
   "source": [
    "#28 writw a programme that combines two list into a dictonary using list comprehension.\n",
    "\n",
    "index=[1,2,3]\n",
    "lang= ['python','java', 'c']\n",
    "\n",
    "dicto={k:v for k, v in zip(index,lang)}\n",
    "print(dicto)"
   ]
  },
  {
   "cell_type": "code",
   "execution_count": 5,
   "id": "d2ec695a-9ed6-4470-a5dd-0862b4f498a7",
   "metadata": {},
   "outputs": [
    {
     "name": "stdin",
     "output_type": "stream",
     "text": [
      "enter a string: hi, i love to play cricket\n"
     ]
    },
    {
     "name": "stdout",
     "output_type": "stream",
     "text": [
      "{'a': 1, 'e': 2, 'i': 3, 'o': 2, 'u': 0}\n"
     ]
    }
   ],
   "source": [
    "#29  write a programm that extract the vowles from a string using list comprehension.\n",
    "\n",
    "ip_str= input(\"enter a string:\")\n",
    "ip_str=ip_str.casefold()\n",
    "count={x:sum([1 for char in ip_str if char ==x])for x in \"aeiou\"}\n",
    "print(count)\n",
    "\n",
    "    "
   ]
  },
  {
   "cell_type": "code",
   "execution_count": 8,
   "id": "33e7f48b-629f-4c41-bbfb-9e84e8f7d9c1",
   "metadata": {},
   "outputs": [
    {
     "data": {
      "text/plain": [
       "['123', '567']"
      ]
     },
     "execution_count": 8,
     "metadata": {},
     "output_type": "execute_result"
    }
   ],
   "source": [
    "#30 creat a programme that removes all non numaric numbers char from a using list coomprehension.\n",
    "\n",
    "list_of_str=[\"abc123\", \"hjk567\"]\n",
    "list_of_str=[\"\".join(i for i in char if i.isnumeric())for char in list_of_str]\n",
    "list_of_str"
   ]
  },
  {
   "cell_type": "code",
   "execution_count": 10,
   "id": "d5bdb0aa-24ba-4077-b6dd-7109cfbf3fd0",
   "metadata": {},
   "outputs": [
    {
     "name": "stdin",
     "output_type": "stream",
     "text": [
      "enter the value: 18\n"
     ]
    },
    {
     "name": "stdout",
     "output_type": "stream",
     "text": [
      "[(3, 4, 5), (5, 12, 13), (6, 8, 10), (8, 15, 17), (9, 12, 15)]\n"
     ]
    }
   ],
   "source": [
    "#32 write a programme to generates a list of prime numbers using the sieve of eratosthenes algorithm and list comprenshion.\n",
    "\n",
    "n=int(input(\"enter the value:\"))\n",
    "print([(a,b,c) for a in range(1,n + 1) for b in range(a, n+1) for c in range(b,n+1) if a**2 +b**2==c**2])\n",
    "      "
   ]
  },
  {
   "cell_type": "code",
   "execution_count": 2,
   "id": "96767a09-ddaa-462e-9777-4f8206f94094",
   "metadata": {},
   "outputs": [
    {
     "name": "stdin",
     "output_type": "stream",
     "text": [
      " 56\n"
     ]
    },
    {
     "name": "stdout",
     "output_type": "stream",
     "text": [
      "[0, 1, 2, 3, 5, 7, 11, 13, 17, 19, 23, 29, 31, 37, 41, 43, 47, 53]\n"
     ]
    }
   ],
   "source": [
    "#31 write a programe to generate a list of prime numbers using selve of eratosthenses algorithom and list comprenshion.\n",
    "import math \n",
    "ranges=int(input())\n",
    "sieve=[True]*(ranges)\n",
    "isprime=[]\n",
    "n=math.floor(math.sqrt(ranges))\n",
    "\n",
    "\n",
    "for i in range(2,n+1):\n",
    "    if sieve[i]==True:\n",
    "        for j in range(i*i, ranges,i):\n",
    "            sieve[j]=False\n",
    "for prime,x in enumerate(sieve):\n",
    "    if x==True:\n",
    "        isprime.append(prime)\n",
    "print(isprime)\n"
   ]
  },
  {
   "cell_type": "code",
   "execution_count": 14,
   "id": "ad9a2d6a-f59f-477d-ad97-f78de9a4d857",
   "metadata": {},
   "outputs": [
    {
     "name": "stdout",
     "output_type": "stream",
     "text": [
      "the orginal listes are :[1, 2, 3] [4, 5, 6] [7, 8, 9]\n",
      "all possiable combination : [[1, 4, 7], [1, 4, 8], [1, 4, 9], [1, 5, 7], [1, 5, 8], [1, 5, 9], [1, 6, 7], [1, 6, 8], [1, 6, 9], [2, 4, 7], [2, 4, 8], [2, 4, 9], [2, 5, 7], [2, 5, 8], [2, 5, 9], [2, 6, 7], [2, 6, 8], [2, 6, 9], [3, 4, 7], [3, 4, 8], [3, 4, 9], [3, 5, 7], [3, 5, 8], [3, 5, 9], [3, 6, 7], [3, 6, 8], [3, 6, 9]]\n"
     ]
    }
   ],
   "source": [
    "#33 devlope a programe that generates a list full of all possiable combination of two list using list comprenshinson.\n",
    "\n",
    "l1=[1,2,3]\n",
    "l2=[4,5,6]\n",
    "l3=[7,8,9]\n",
    "\n",
    "print(\"the orginal listes are :\"+str(l1)+\" \"+str(l2)+\" \"+str(l3))\n",
    "res= [[i,j,k] for i in l1\n",
    "              for j in l2\n",
    "              for k in l3]\n",
    "\n",
    "\n",
    "print(\"all possiable combination :\", str(res))"
   ]
  },
  {
   "cell_type": "code",
   "execution_count": 10,
   "id": "b3a878b8-88c0-45f3-a6b1-ab5736590b5d",
   "metadata": {},
   "outputs": [
    {
     "name": "stdout",
     "output_type": "stream",
     "text": [
      "3.875\n",
      "3.5\n",
      "4\n"
     ]
    }
   ],
   "source": [
    "#34 write a programme that calculates the mean,meadin and mode of a list of numbers using list comprehension.\n",
    "# 34 Mean median mode of a list of numbers\n",
    "nums=[1,2,2,3,4,7,9,0,1,3,1,5,8,2,4,6,8,9,1,2,3,4,5,3]\n",
    "\n",
    "nums=sorted(nums)\n",
    "n=len(nums)\n",
    "\n",
    "#mean\n",
    "mean=sum(nums)/n\n",
    "\n",
    "#median\n",
    "\n",
    "if n%2==0:\n",
    "    median=(nums[n//2]+nums[n//2+1])/2\n",
    "else:\n",
    "    median=nums[(n+1)//2]\n",
    "\n",
    "\n",
    "#mode\n",
    "mode=max((nums.count(i),i) for i in nums)[0]\n",
    "\n",
    "print(mean)\n",
    "print(median)\n",
    "print(mode)\n"
   ]
  },
  {
   "cell_type": "code",
   "execution_count": 9,
   "id": "354016c3-61bb-4988-961b-2e243aa74285",
   "metadata": {},
   "outputs": [
    {
     "data": {
      "text/plain": [
       "[[1],\n",
       " [1, 1],\n",
       " [1, 2, 1],\n",
       " [1, 3, 3, 1],\n",
       " [1, 4, 6, 4, 1],\n",
       " [1, 5, 10, 10, 5, 1],\n",
       " [1, 6, 15, 20, 15, 6, 1],\n",
       " [1, 7, 21, 35, 35, 21, 7, 1],\n",
       " [1, 8, 28, 56, 70, 56, 28, 8, 1],\n",
       " [1, 9, 36, 84, 126, 126, 84, 36, 9, 1]]"
      ]
     },
     "execution_count": 9,
     "metadata": {},
     "output_type": "execute_result"
    }
   ],
   "source": [
    "#creat a programme that generates pascles's tringle up to a specific number of row using list comphrension.\n",
    "\n",
    "#35 Pascles Triangle\n",
    "r=[]\n",
    "lists_=[]\n",
    "n=10\n",
    "for i in range(n):\n",
    "    l=len(r)\n",
    "    r=[1 if i==0 or i==l else r[i-1]+r[i] for i in range(l+1)]\n",
    "    lists_.append(r)\n",
    "lists_"
   ]
  },
  {
   "cell_type": "code",
   "execution_count": 1,
   "id": "650d52e8-4306-4bd4-b167-f8ae93686d13",
   "metadata": {},
   "outputs": [
    {
     "name": "stdout",
     "output_type": "stream",
     "text": [
      "18\n"
     ]
    }
   ],
   "source": [
    "#36 devlope a programe that devlopes  of a factorial number from 1- 5 using list comprehension.\n",
    "# 36 sum of digits of factorial of numbers from 1 to 5\n",
    "# step 1->Factorial using recursion and memory optimization\n",
    "#step 2->sum of digit\n",
    "memo={}\n",
    "res=0\n",
    "def factorial(n):\n",
    "    if n in memo:\n",
    "        return memo[n]\n",
    "    if n==0:\n",
    "        return 1\n",
    "    result =n*factorial(n-1)\n",
    "    memo[n]=result\n",
    "    return result\n",
    "\n",
    "def sumofdigit(i):\n",
    "    add=0\n",
    "    while i>0:\n",
    "        digits=i%10\n",
    "        add=add+digits\n",
    "        i=i//10\n",
    "    return add\n",
    "\n",
    "factorial(5)\n",
    "for i in memo:\n",
    "    res=res+sumofdigit(memo[i])\n",
    "print(res)\n"
   ]
  },
  {
   "cell_type": "code",
   "execution_count": 5,
   "id": "c57348a3-7d6a-47c4-acf9-0bff64407519",
   "metadata": {},
   "outputs": [
    {
     "name": "stdin",
     "output_type": "stream",
     "text": [
      "enter the sentence: iam not goi to collage because today its raining here \n"
     ]
    },
    {
     "name": "stdout",
     "output_type": "stream",
     "text": [
      "longest word is: collage\n",
      "and its length: 7\n"
     ]
    }
   ],
   "source": [
    "#37 creat a programme that finds the large sentence using list comprenhsion.\n",
    "\n",
    "sentence= input(\"enter the sentence:\")\n",
    "longest= max(sentence.split(),key=len)\n",
    "\n",
    "print(\"longest word is:\",longest)\n",
    "print(\"and its length:\",len(longest))"
   ]
  },
  {
   "cell_type": "code",
   "execution_count": 6,
   "id": "3ebd2581-6cd8-4dbd-85ec-08fd9405db29",
   "metadata": {},
   "outputs": [
    {
     "name": "stdout",
     "output_type": "stream",
     "text": [
      "aeiou\n",
      "abcdei\n"
     ]
    }
   ],
   "source": [
    "#38creat a programme that filters a list of string to include only those with more then three vawles using list comprenshion.\n",
    "\n",
    " #38filter a list of string more than three vowels\n",
    "l=['aeiou', 'abcdei', 'abcd']\n",
    "vowels='aeiou'\n",
    "\n",
    "res=[(i, sum(1 for j in i if j in vowels  ) )for i in l]\n",
    "# for i in l:\n",
    "#     count=0\n",
    "#     for j in i:\n",
    "#         if j in vowels:\n",
    "#             count=count+1\n",
    "#     res.append((i,count))\n",
    "# print(res)\n",
    "res=list(filter(lambda x: x[1]>=3 , res))\n",
    "for i in res:\n",
    "    print(i[0])"
   ]
  },
  {
   "cell_type": "code",
   "execution_count": 7,
   "id": "dc2f626a-687b-49aa-8e97-6c97a7736f16",
   "metadata": {},
   "outputs": [
    {
     "name": "stdout",
     "output_type": "stream",
     "text": [
      "13501\n"
     ]
    }
   ],
   "source": [
    "#39devlope aprogrmme that calculates the sum of the digits number from1-1000 using list comprinshion.\n",
    "# Sum of digits of numbers from 1 to 1000\n",
    "add=0\n",
    "for i in range (1,1001):\n",
    "    while i>0:\n",
    "        digits=i%10\n",
    "        add=add+digits\n",
    "        i=i//10\n",
    "        \n",
    "print(add)\n",
    "     \n"
   ]
  },
  {
   "cell_type": "code",
   "execution_count": 8,
   "id": "257e510d-c372-41e8-8684-f9a365d8b4a7",
   "metadata": {},
   "outputs": [
    {
     "name": "stdout",
     "output_type": "stream",
     "text": [
      "1000\n",
      "[0, 1, 2, 3, 5, 7, 11, 101, 131, 151, 181, 191, 313, 353, 373, 383, 727, 757, 787, 797, 919, 929]\n"
     ]
    }
   ],
   "source": [
    "# 40 prime palindromic number\n",
    "\n",
    "# Step 1 -> Find the prime numbers up to the input by Eratosthenes\n",
    "# step 3-> reverse the number\n",
    "#step 2-> Check is it palindrom (reverse==original)\n",
    "import math\n",
    "\n",
    "limit=1000\n",
    "sieve=[True]*(limit)\n",
    "print(len(sieve))\n",
    "n=math.floor(math.sqrt(limit))\n",
    "palindrom_prime=[]\n",
    "\n",
    "for i in range (2, n+1):\n",
    "    if sieve[i]==True:\n",
    "        for j in range(i*i,limit,i):\n",
    "            sieve[j]=False\n",
    "            \n",
    "for i in range(limit):\n",
    "    if sieve[i]==True and  str(i)==str(i)[::-1]:\n",
    "        palindrom_prime.append(i)\n",
    "         \n",
    "print(palindrom_prime)\n",
    "    "
   ]
  },
  {
   "cell_type": "code",
   "execution_count": null,
   "id": "3d647f0e-93a7-477f-9b7a-01cb9bd5892b",
   "metadata": {},
   "outputs": [],
   "source": [
    "#comple"
   ]
  }
 ],
 "metadata": {
  "kernelspec": {
   "display_name": "Python 3 (ipykernel)",
   "language": "python",
   "name": "python3"
  },
  "language_info": {
   "codemirror_mode": {
    "name": "ipython",
    "version": 3
   },
   "file_extension": ".py",
   "mimetype": "text/x-python",
   "name": "python",
   "nbconvert_exporter": "python",
   "pygments_lexer": "ipython3",
   "version": "3.10.8"
  }
 },
 "nbformat": 4,
 "nbformat_minor": 5
}
